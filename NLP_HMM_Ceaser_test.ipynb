{
  "nbformat": 4,
  "nbformat_minor": 0,
  "metadata": {
    "colab": {
      "name": "NLP_HMM_Ceaser test.ipynb",
      "provenance": [],
      "collapsed_sections": []
    },
    "kernelspec": {
      "display_name": "Python 3",
      "name": "python3"
    },
    "language_info": {
      "name": "python"
    }
  },
  "cells": [
    {
      "cell_type": "code",
      "metadata": {
        "id": "WilQ0e9RMKhr"
      },
      "source": [
        "with open('test.h', 'r') as file:\n",
        "    data = file.read().replace('\\n', '')"
      ],
      "execution_count": null,
      "outputs": []
    },
    {
      "cell_type": "code",
      "metadata": {
        "colab": {
          "base_uri": "https://localhost:8080/"
        },
        "id": "DsDeN_JUMy0k",
        "outputId": "3e6ad1d8-6dc5-44d9-b577-169bd6620ff7"
      },
      "source": [
        "print(data, type(data))\n",
        "# Removing Puncutations\n",
        "punc = '''!()-[]{};:'\"\\,<>./?@#$%^&*_~'''\n",
        "for i in data:\n",
        "  if i in punc: \n",
        "        data = data.replace(i, \"\") \n",
        "\n",
        "print(data)"
      ],
      "execution_count": null,
      "outputs": [
        {
          "output_type": "stream",
          "text": [
            " plaintexts = [            \"London calling to the faraway towns\",            \"Now war is declared and battle come down\",            \"London calling just to the underworld\",            \"Come out of the cupboard, you boys and girls\",            \"London calling, now don't look to us\",            \"Phony Beatlemania has bitten the dust\",            \"London calling, see we ain't got no swing\",            \"'Cept for the ring of that truncheon thing\",            \"The ice age is coming, the sun is zooming in\",            \"Meltdown expected, the wheat is growin' thin\",            \"Engines stop running, but I have no fear\",            \"Cause London is drowning, and I, I live by the river\",            \"London calling to the imitation zone\",            \"Forget it, brother, you can go it alone\",            \"London calling to the zombies of death\",            \"Quit holding out and draw another breath\",            \"London calling and I don't want to shout\",            \"But when we were talking I saw you nodding out\",            \"London calling, see we ain't got no high\",            \"Except for that one with the yellowy eye\",            \"Now get this\",            \"London calling, yes, I was there, too\",            \"An' you know what they said? Well, some of it was true!\",            \"London calling at the top of the dial\",            \"And after all this, won't you give me a smile?\",            \"I never felt so much a' like a'like a'like\",            \"When they kick at your front door\",            \"How you gonna come?\",            \"With your hands on your head\",            \"Or on the trigger of your gun\",            \"When the law break in\",            \"How you gonna go?\",            \"Shot down on the pavement\",            \"Or waiting on death row\",            \"You can crush us\",            \"You can bruise us\",            \"But you'll have to answer to\",            \"Oh, the guns of Brixton\",            \"The money feels good\",            \"And your life you like it well\",            \"But surely your time will come\",            \"As in heaven, as in hell\",            \"You see, he feels like Ivan\",            \"Born under the Brixton sun\",            \"His game is called survivin'\",            \"At the end of the harder they come\",            \"You know it means no mercy\",            \"They caught him with a gun\",            \"No need for the Black Maria\",            \"Goodbye to the Brixton sun\",            \"You can crush us\",            \"You can bruise us\",            \"Yes, even shoot us\",            \"But oh-the guns of Brixton\",            \"Shot down on the pavement\",            \"Waiting in death row\",            \"His game is called survivin'\",            \"As in heaven as in hell\",            \"Anybody who makes speeches written \",            \"by someone else is just a robot.\"]        ciphertexts = [            \"Svukvu jhsspun av aol mhyhdhf avduz\",            \"Uvd dhy pz kljshylk huk ihaasl jvtl kvdu\",            \"Svukvu jhsspun qbza av aol buklydvysk\",            \"Jvtl vba vm aol jbwivhyk, fvb ivfz huk npysz\",            \"Svukvu jhsspun, uvd kvu'a svvr av bz\",            \"Wovuf Ilhaslthuph ohz ipaalu aol kbza\",            \"Svukvu jhsspun, zll dl hpu'a nva uv zdpun\",            \"'Jlwa mvy aol ypun vm aoha aybujolvu aopun\",            \"Aol pjl hnl pz jvtpun, aol zbu pz gvvtpun pu\",            \"Tlsakvdu lewljalk, aol dolha pz nyvdpu' aopu\",            \"Lunpulz zavw ybuupun, iba P ohcl uv mlhy\",            \"Jhbzl Svukvu pz kyvdupun, huk P, P spcl if aol ypcly\",            \"Svukvu jhsspun av aol ptpahapvu gvul\",            \"Mvynla pa, iyvaoly, fvb jhu nv pa hsvul\",            \"Svukvu jhsspun av aol gvtiplz vm klhao\",            \"Xbpa ovskpun vba huk kyhd huvaoly iylhao\",            \"Svukvu jhsspun huk P kvu'a dhua av zovba\",            \"Iba dolu dl dlyl ahsrpun P zhd fvb uvkkpun vba\",            \"Svukvu jhsspun, zll dl hpu'a nva uv opno\",            \"Lejlwa mvy aoha vul dpao aol flssvdf lfl\",            \"Uvd nla aopz\",            \"Svukvu jhsspun, flz, P dhz aolyl, avv\",            \"Hu' fvb ruvd doha aolf zhpk? Dlss, zvtl vm pa dhz aybl!\",            \"Svukvu jhsspun ha aol avw vm aol kphs\",            \"Huk hmaly hss aopz, dvu'a fvb npcl tl h ztpsl?\",            \"P ulcly mlsa zv tbjo h' sprl h'sprl h'sprl\",            \"Dolu aolf rpjr ha fvby myvua kvvy\",            \"Ovd fvb nvuuh jvtl?\",            \"Dpao fvby ohukz vu fvby olhk\",            \"Vy vu aol aypnnly vm fvby nbu\",            \"Dolu aol shd iylhr pu\",            \"Ovd fvb nvuuh nv?\",            \"Zova kvdu vu aol whcltlua\",            \"Vy dhpapun vu klhao yvd\",            \"Fvb jhu jybzo bz\",            \"Fvb jhu iybpzl bz\",            \"Iba fvb'ss ohcl av huzdly av\",            \"Vo, aol nbuz vm Iypeavu\",            \"Aol tvulf mllsz nvvk\",            \"Huk fvby spml fvb sprl pa dlss\",            \"Iba zbylsf fvby aptl dpss jvtl\",            \"Hz pu olhclu, hz pu olss\",            \"Fvb zll, ol mllsz sprl Pchu\",            \"Ivyu bukly aol Iypeavu zbu\",            \"Opz nhtl pz jhsslk zbycpcpu'\",            \"Ha aol luk vm aol ohykly aolf jvtl\",            \"Fvb ruvd pa tlhuz uv tlyjf\",            \"Aolf jhbnoa opt dpao h nbu\",            \"Uv ullk mvy aol Ishjr Thyph\",            \"Nvvkifl av aol Iypeavu zbu\",            \"Fvb jhu jybzo bz\",            \"Fvb jhu iybpzl bz\",            \"Flz, lclu zovva bz\",            \"Iba vo-aol nbuz vm Iypeavu\",            \"Zova kvdu vu aol whcltlua\",            \"Dhpapun pu klhao yvd\",            \"Opz nhtl pz jhsslk zbycpcpu'\",            \"Hz pu olhclu hz pu olss\",            \"Hufivkf dov thrlz zwlljolz dypaalu \",            \"if zvtlvul lszl pz qbza h yviva.\"] <class 'str'>\n",
            " plaintexts =             London calling to the faraway towns            Now war is declared and battle come down            London calling just to the underworld            Come out of the cupboard you boys and girls            London calling now dont look to us            Phony Beatlemania has bitten the dust            London calling see we aint got no swing            Cept for the ring of that truncheon thing            The ice age is coming the sun is zooming in            Meltdown expected the wheat is growin thin            Engines stop running but I have no fear            Cause London is drowning and I I live by the river            London calling to the imitation zone            Forget it brother you can go it alone            London calling to the zombies of death            Quit holding out and draw another breath            London calling and I dont want to shout            But when we were talking I saw you nodding out            London calling see we aint got no high            Except for that one with the yellowy eye            Now get this            London calling yes I was there too            An you know what they said Well some of it was true            London calling at the top of the dial            And after all this wont you give me a smile            I never felt so much a like alike alike            When they kick at your front door            How you gonna come            With your hands on your head            Or on the trigger of your gun            When the law break in            How you gonna go            Shot down on the pavement            Or waiting on death row            You can crush us            You can bruise us            But youll have to answer to            Oh the guns of Brixton            The money feels good            And your life you like it well            But surely your time will come            As in heaven as in hell            You see he feels like Ivan            Born under the Brixton sun            His game is called survivin            At the end of the harder they come            You know it means no mercy            They caught him with a gun            No need for the Black Maria            Goodbye to the Brixton sun            You can crush us            You can bruise us            Yes even shoot us            But ohthe guns of Brixton            Shot down on the pavement            Waiting in death row            His game is called survivin            As in heaven as in hell            Anybody who makes speeches written             by someone else is just a robot        ciphertexts =             Svukvu jhsspun av aol mhyhdhf avduz            Uvd dhy pz kljshylk huk ihaasl jvtl kvdu            Svukvu jhsspun qbza av aol buklydvysk            Jvtl vba vm aol jbwivhyk fvb ivfz huk npysz            Svukvu jhsspun uvd kvua svvr av bz            Wovuf Ilhaslthuph ohz ipaalu aol kbza            Svukvu jhsspun zll dl hpua nva uv zdpun            Jlwa mvy aol ypun vm aoha aybujolvu aopun            Aol pjl hnl pz jvtpun aol zbu pz gvvtpun pu            Tlsakvdu lewljalk aol dolha pz nyvdpu aopu            Lunpulz zavw ybuupun iba P ohcl uv mlhy            Jhbzl Svukvu pz kyvdupun huk P P spcl if aol ypcly            Svukvu jhsspun av aol ptpahapvu gvul            Mvynla pa iyvaoly fvb jhu nv pa hsvul            Svukvu jhsspun av aol gvtiplz vm klhao            Xbpa ovskpun vba huk kyhd huvaoly iylhao            Svukvu jhsspun huk P kvua dhua av zovba            Iba dolu dl dlyl ahsrpun P zhd fvb uvkkpun vba            Svukvu jhsspun zll dl hpua nva uv opno            Lejlwa mvy aoha vul dpao aol flssvdf lfl            Uvd nla aopz            Svukvu jhsspun flz P dhz aolyl avv            Hu fvb ruvd doha aolf zhpk Dlss zvtl vm pa dhz aybl            Svukvu jhsspun ha aol avw vm aol kphs            Huk hmaly hss aopz dvua fvb npcl tl h ztpsl            P ulcly mlsa zv tbjo h sprl hsprl hsprl            Dolu aolf rpjr ha fvby myvua kvvy            Ovd fvb nvuuh jvtl            Dpao fvby ohukz vu fvby olhk            Vy vu aol aypnnly vm fvby nbu            Dolu aol shd iylhr pu            Ovd fvb nvuuh nv            Zova kvdu vu aol whcltlua            Vy dhpapun vu klhao yvd            Fvb jhu jybzo bz            Fvb jhu iybpzl bz            Iba fvbss ohcl av huzdly av            Vo aol nbuz vm Iypeavu            Aol tvulf mllsz nvvk            Huk fvby spml fvb sprl pa dlss            Iba zbylsf fvby aptl dpss jvtl            Hz pu olhclu hz pu olss            Fvb zll ol mllsz sprl Pchu            Ivyu bukly aol Iypeavu zbu            Opz nhtl pz jhsslk zbycpcpu            Ha aol luk vm aol ohykly aolf jvtl            Fvb ruvd pa tlhuz uv tlyjf            Aolf jhbnoa opt dpao h nbu            Uv ullk mvy aol Ishjr Thyph            Nvvkifl av aol Iypeavu zbu            Fvb jhu jybzo bz            Fvb jhu iybpzl bz            Flz lclu zovva bz            Iba voaol nbuz vm Iypeavu            Zova kvdu vu aol whcltlua            Dhpapun pu klhao yvd            Opz nhtl pz jhsslk zbycpcpu            Hz pu olhclu hz pu olss            Hufivkf dov thrlz zwlljolz dypaalu             if zvtlvul lszl pz qbza h yviva\n"
          ],
          "name": "stdout"
        }
      ]
    },
    {
      "cell_type": "code",
      "metadata": {
        "colab": {
          "base_uri": "https://localhost:8080/"
        },
        "id": "8REQIS8aSFJ9",
        "outputId": "9bd08865-678d-4306-a2f0-0c9b3b21a0a5"
      },
      "source": [
        "\n",
        "data = data.split(\" \"*13)\n",
        "print(data)"
      ],
      "execution_count": null,
      "outputs": [
        {
          "output_type": "stream",
          "text": [
            "[' plaintexts =', 'London calling to the faraway towns            Now war is declared and battle come down            London calling just to the underworld            Come out of the cupboard you boys and girls            London calling now dont look to us            Phony Beatlemania has bitten the dust            London calling see we aint got no swing            Cept for the ring of that truncheon thing            The ice age is coming the sun is zooming in            Meltdown expected the wheat is growin thin            Engines stop running but I have no fear            Cause London is drowning and I I live by the river            London calling to the imitation zone            Forget it brother you can go it alone            London calling to the zombies of death            Quit holding out and draw another breath            London calling and I dont want to shout            But when we were talking I saw you nodding out            London calling see we aint got no high            Except for that one with the yellowy eye            Now get this            London calling yes I was there too            An you know what they said Well some of it was true            London calling at the top of the dial            And after all this wont you give me a smile            I never felt so much a like alike alike            When they kick at your front door            How you gonna come            With your hands on your head            Or on the trigger of your gun            When the law break in            How you gonna go            Shot down on the pavement            Or waiting on death row            You can crush us            You can bruise us            But youll have to answer to            Oh the guns of Brixton            The money feels good            And your life you like it well            But surely your time will come            As in heaven as in hell            You see he feels like Ivan            Born under the Brixton sun            His game is called survivin            At the end of the harder they come            You know it means no mercy            They caught him with a gun            No need for the Black Maria            Goodbye to the Brixton sun            You can crush us            You can bruise us            Yes even shoot us            But ohthe guns of Brixton            Shot down on the pavement            Waiting in death row            His game is called survivin            As in heaven as in hell            Anybody who makes speeches written', 'by someone else is just a robot        ciphertexts =', 'Svukvu jhsspun av aol mhyhdhf avduz            Uvd dhy pz kljshylk huk ihaasl jvtl kvdu            Svukvu jhsspun qbza av aol buklydvysk            Jvtl vba vm aol jbwivhyk fvb ivfz huk npysz            Svukvu jhsspun uvd kvua svvr av bz            Wovuf Ilhaslthuph ohz ipaalu aol kbza            Svukvu jhsspun zll dl hpua nva uv zdpun            Jlwa mvy aol ypun vm aoha aybujolvu aopun            Aol pjl hnl pz jvtpun aol zbu pz gvvtpun pu            Tlsakvdu lewljalk aol dolha pz nyvdpu aopu            Lunpulz zavw ybuupun iba P ohcl uv mlhy            Jhbzl Svukvu pz kyvdupun huk P P spcl if aol ypcly            Svukvu jhsspun av aol ptpahapvu gvul            Mvynla pa iyvaoly fvb jhu nv pa hsvul            Svukvu jhsspun av aol gvtiplz vm klhao            Xbpa ovskpun vba huk kyhd huvaoly iylhao            Svukvu jhsspun huk P kvua dhua av zovba            Iba dolu dl dlyl ahsrpun P zhd fvb uvkkpun vba            Svukvu jhsspun zll dl hpua nva uv opno            Lejlwa mvy aoha vul dpao aol flssvdf lfl            Uvd nla aopz            Svukvu jhsspun flz P dhz aolyl avv            Hu fvb ruvd doha aolf zhpk Dlss zvtl vm pa dhz aybl            Svukvu jhsspun ha aol avw vm aol kphs            Huk hmaly hss aopz dvua fvb npcl tl h ztpsl            P ulcly mlsa zv tbjo h sprl hsprl hsprl            Dolu aolf rpjr ha fvby myvua kvvy            Ovd fvb nvuuh jvtl            Dpao fvby ohukz vu fvby olhk            Vy vu aol aypnnly vm fvby nbu            Dolu aol shd iylhr pu            Ovd fvb nvuuh nv            Zova kvdu vu aol whcltlua            Vy dhpapun vu klhao yvd            Fvb jhu jybzo bz            Fvb jhu iybpzl bz            Iba fvbss ohcl av huzdly av            Vo aol nbuz vm Iypeavu            Aol tvulf mllsz nvvk            Huk fvby spml fvb sprl pa dlss            Iba zbylsf fvby aptl dpss jvtl            Hz pu olhclu hz pu olss            Fvb zll ol mllsz sprl Pchu            Ivyu bukly aol Iypeavu zbu            Opz nhtl pz jhsslk zbycpcpu            Ha aol luk vm aol ohykly aolf jvtl            Fvb ruvd pa tlhuz uv tlyjf            Aolf jhbnoa opt dpao h nbu            Uv ullk mvy aol Ishjr Thyph            Nvvkifl av aol Iypeavu zbu            Fvb jhu jybzo bz            Fvb jhu iybpzl bz            Flz lclu zovva bz            Iba voaol nbuz vm Iypeavu            Zova kvdu vu aol whcltlua            Dhpapun pu klhao yvd            Opz nhtl pz jhsslk zbycpcpu            Hz pu olhclu hz pu olss            Hufivkf dov thrlz zwlljolz dypaalu', 'if zvtlvul lszl pz qbza h yviva']\n"
          ],
          "name": "stdout"
        }
      ]
    },
    {
      "cell_type": "code",
      "metadata": {
        "colab": {
          "base_uri": "https://localhost:8080/"
        },
        "id": "0d8mFVLtT3s9",
        "outputId": "390aafaf-94f4-4630-e485-e99929b26091"
      },
      "source": [
        "data.pop(0)\n",
        "print(data)"
      ],
      "execution_count": null,
      "outputs": [
        {
          "output_type": "stream",
          "text": [
            "['London calling to the faraway towns            Now war is declared and battle come down            London calling just to the underworld            Come out of the cupboard you boys and girls            London calling now dont look to us            Phony Beatlemania has bitten the dust            London calling see we aint got no swing            Cept for the ring of that truncheon thing            The ice age is coming the sun is zooming in            Meltdown expected the wheat is growin thin            Engines stop running but I have no fear            Cause London is drowning and I I live by the river            London calling to the imitation zone            Forget it brother you can go it alone            London calling to the zombies of death            Quit holding out and draw another breath            London calling and I dont want to shout            But when we were talking I saw you nodding out            London calling see we aint got no high            Except for that one with the yellowy eye            Now get this            London calling yes I was there too            An you know what they said Well some of it was true            London calling at the top of the dial            And after all this wont you give me a smile            I never felt so much a like alike alike            When they kick at your front door            How you gonna come            With your hands on your head            Or on the trigger of your gun            When the law break in            How you gonna go            Shot down on the pavement            Or waiting on death row            You can crush us            You can bruise us            But youll have to answer to            Oh the guns of Brixton            The money feels good            And your life you like it well            But surely your time will come            As in heaven as in hell            You see he feels like Ivan            Born under the Brixton sun            His game is called survivin            At the end of the harder they come            You know it means no mercy            They caught him with a gun            No need for the Black Maria            Goodbye to the Brixton sun            You can crush us            You can bruise us            Yes even shoot us            But ohthe guns of Brixton            Shot down on the pavement            Waiting in death row            His game is called survivin            As in heaven as in hell            Anybody who makes speeches written', 'by someone else is just a robot        ciphertexts =', 'Svukvu jhsspun av aol mhyhdhf avduz            Uvd dhy pz kljshylk huk ihaasl jvtl kvdu            Svukvu jhsspun qbza av aol buklydvysk            Jvtl vba vm aol jbwivhyk fvb ivfz huk npysz            Svukvu jhsspun uvd kvua svvr av bz            Wovuf Ilhaslthuph ohz ipaalu aol kbza            Svukvu jhsspun zll dl hpua nva uv zdpun            Jlwa mvy aol ypun vm aoha aybujolvu aopun            Aol pjl hnl pz jvtpun aol zbu pz gvvtpun pu            Tlsakvdu lewljalk aol dolha pz nyvdpu aopu            Lunpulz zavw ybuupun iba P ohcl uv mlhy            Jhbzl Svukvu pz kyvdupun huk P P spcl if aol ypcly            Svukvu jhsspun av aol ptpahapvu gvul            Mvynla pa iyvaoly fvb jhu nv pa hsvul            Svukvu jhsspun av aol gvtiplz vm klhao            Xbpa ovskpun vba huk kyhd huvaoly iylhao            Svukvu jhsspun huk P kvua dhua av zovba            Iba dolu dl dlyl ahsrpun P zhd fvb uvkkpun vba            Svukvu jhsspun zll dl hpua nva uv opno            Lejlwa mvy aoha vul dpao aol flssvdf lfl            Uvd nla aopz            Svukvu jhsspun flz P dhz aolyl avv            Hu fvb ruvd doha aolf zhpk Dlss zvtl vm pa dhz aybl            Svukvu jhsspun ha aol avw vm aol kphs            Huk hmaly hss aopz dvua fvb npcl tl h ztpsl            P ulcly mlsa zv tbjo h sprl hsprl hsprl            Dolu aolf rpjr ha fvby myvua kvvy            Ovd fvb nvuuh jvtl            Dpao fvby ohukz vu fvby olhk            Vy vu aol aypnnly vm fvby nbu            Dolu aol shd iylhr pu            Ovd fvb nvuuh nv            Zova kvdu vu aol whcltlua            Vy dhpapun vu klhao yvd            Fvb jhu jybzo bz            Fvb jhu iybpzl bz            Iba fvbss ohcl av huzdly av            Vo aol nbuz vm Iypeavu            Aol tvulf mllsz nvvk            Huk fvby spml fvb sprl pa dlss            Iba zbylsf fvby aptl dpss jvtl            Hz pu olhclu hz pu olss            Fvb zll ol mllsz sprl Pchu            Ivyu bukly aol Iypeavu zbu            Opz nhtl pz jhsslk zbycpcpu            Ha aol luk vm aol ohykly aolf jvtl            Fvb ruvd pa tlhuz uv tlyjf            Aolf jhbnoa opt dpao h nbu            Uv ullk mvy aol Ishjr Thyph            Nvvkifl av aol Iypeavu zbu            Fvb jhu jybzo bz            Fvb jhu iybpzl bz            Flz lclu zovva bz            Iba voaol nbuz vm Iypeavu            Zova kvdu vu aol whcltlua            Dhpapun pu klhao yvd            Opz nhtl pz jhsslk zbycpcpu            Hz pu olhclu hz pu olss            Hufivkf dov thrlz zwlljolz dypaalu', 'if zvtlvul lszl pz qbza h yviva']\n"
          ],
          "name": "stdout"
        }
      ]
    },
    {
      "cell_type": "code",
      "metadata": {
        "colab": {
          "base_uri": "https://localhost:8080/"
        },
        "id": "WbtIxUSWUpQY",
        "outputId": "b3222b4e-55f1-46cd-b162-8694283b59f6"
      },
      "source": [
        "print(data[0].index('s'))\n",
        "print(data[0].index('N'))"
      ],
      "execution_count": null,
      "outputs": [
        {
          "output_type": "stream",
          "text": [
            "34\n",
            "47\n"
          ],
          "name": "stdout"
        }
      ]
    },
    {
      "cell_type": "code",
      "metadata": {
        "colab": {
          "base_uri": "https://localhost:8080/"
        },
        "id": "NwhGk6JLU9rb",
        "outputId": "db965e55-77b9-4b62-983e-d3dad5a62bac"
      },
      "source": [
        "#Getting the plaintext as string elements of a list\n",
        "a = data[0]\n",
        "a = a.split(\" \"*12)\n",
        "print(a)"
      ],
      "execution_count": null,
      "outputs": [
        {
          "output_type": "stream",
          "text": [
            "['London calling to the faraway towns', 'Now war is declared and battle come down', 'London calling just to the underworld', 'Come out of the cupboard you boys and girls', 'London calling now dont look to us', 'Phony Beatlemania has bitten the dust', 'London calling see we aint got no swing', 'Cept for the ring of that truncheon thing', 'The ice age is coming the sun is zooming in', 'Meltdown expected the wheat is growin thin', 'Engines stop running but I have no fear', 'Cause London is drowning and I I live by the river', 'London calling to the imitation zone', 'Forget it brother you can go it alone', 'London calling to the zombies of death', 'Quit holding out and draw another breath', 'London calling and I dont want to shout', 'But when we were talking I saw you nodding out', 'London calling see we aint got no high', 'Except for that one with the yellowy eye', 'Now get this', 'London calling yes I was there too', 'An you know what they said Well some of it was true', 'London calling at the top of the dial', 'And after all this wont you give me a smile', 'I never felt so much a like alike alike', 'When they kick at your front door', 'How you gonna come', 'With your hands on your head', 'Or on the trigger of your gun', 'When the law break in', 'How you gonna go', 'Shot down on the pavement', 'Or waiting on death row', 'You can crush us', 'You can bruise us', 'But youll have to answer to', 'Oh the guns of Brixton', 'The money feels good', 'And your life you like it well', 'But surely your time will come', 'As in heaven as in hell', 'You see he feels like Ivan', 'Born under the Brixton sun', 'His game is called survivin', 'At the end of the harder they come', 'You know it means no mercy', 'They caught him with a gun', 'No need for the Black Maria', 'Goodbye to the Brixton sun', 'You can crush us', 'You can bruise us', 'Yes even shoot us', 'But ohthe guns of Brixton', 'Shot down on the pavement', 'Waiting in death row', 'His game is called survivin', 'As in heaven as in hell', 'Anybody who makes speeches written']\n"
          ],
          "name": "stdout"
        }
      ]
    },
    {
      "cell_type": "code",
      "metadata": {
        "colab": {
          "base_uri": "https://localhost:8080/"
        },
        "id": "YBBHu8ndWazU",
        "outputId": "e30ed91d-fb57-4567-f020-26de6d42e9ee"
      },
      "source": [
        "#Getting the ciphertext as string elements of a list\n",
        "b = data[2]\n",
        "b = b.split(\" \"*12)\n",
        "print(b)\n"
      ],
      "execution_count": null,
      "outputs": [
        {
          "output_type": "stream",
          "text": [
            "['Svukvu jhsspun av aol mhyhdhf avduz', 'Uvd dhy pz kljshylk huk ihaasl jvtl kvdu', 'Svukvu jhsspun qbza av aol buklydvysk', 'Jvtl vba vm aol jbwivhyk fvb ivfz huk npysz', 'Svukvu jhsspun uvd kvua svvr av bz', 'Wovuf Ilhaslthuph ohz ipaalu aol kbza', 'Svukvu jhsspun zll dl hpua nva uv zdpun', 'Jlwa mvy aol ypun vm aoha aybujolvu aopun', 'Aol pjl hnl pz jvtpun aol zbu pz gvvtpun pu', 'Tlsakvdu lewljalk aol dolha pz nyvdpu aopu', 'Lunpulz zavw ybuupun iba P ohcl uv mlhy', 'Jhbzl Svukvu pz kyvdupun huk P P spcl if aol ypcly', 'Svukvu jhsspun av aol ptpahapvu gvul', 'Mvynla pa iyvaoly fvb jhu nv pa hsvul', 'Svukvu jhsspun av aol gvtiplz vm klhao', 'Xbpa ovskpun vba huk kyhd huvaoly iylhao', 'Svukvu jhsspun huk P kvua dhua av zovba', 'Iba dolu dl dlyl ahsrpun P zhd fvb uvkkpun vba', 'Svukvu jhsspun zll dl hpua nva uv opno', 'Lejlwa mvy aoha vul dpao aol flssvdf lfl', 'Uvd nla aopz', 'Svukvu jhsspun flz P dhz aolyl avv', 'Hu fvb ruvd doha aolf zhpk Dlss zvtl vm pa dhz aybl', 'Svukvu jhsspun ha aol avw vm aol kphs', 'Huk hmaly hss aopz dvua fvb npcl tl h ztpsl', 'P ulcly mlsa zv tbjo h sprl hsprl hsprl', 'Dolu aolf rpjr ha fvby myvua kvvy', 'Ovd fvb nvuuh jvtl', 'Dpao fvby ohukz vu fvby olhk', 'Vy vu aol aypnnly vm fvby nbu', 'Dolu aol shd iylhr pu', 'Ovd fvb nvuuh nv', 'Zova kvdu vu aol whcltlua', 'Vy dhpapun vu klhao yvd', 'Fvb jhu jybzo bz', 'Fvb jhu iybpzl bz', 'Iba fvbss ohcl av huzdly av', 'Vo aol nbuz vm Iypeavu', 'Aol tvulf mllsz nvvk', 'Huk fvby spml fvb sprl pa dlss', 'Iba zbylsf fvby aptl dpss jvtl', 'Hz pu olhclu hz pu olss', 'Fvb zll ol mllsz sprl Pchu', 'Ivyu bukly aol Iypeavu zbu', 'Opz nhtl pz jhsslk zbycpcpu', 'Ha aol luk vm aol ohykly aolf jvtl', 'Fvb ruvd pa tlhuz uv tlyjf', 'Aolf jhbnoa opt dpao h nbu', 'Uv ullk mvy aol Ishjr Thyph', 'Nvvkifl av aol Iypeavu zbu', 'Fvb jhu jybzo bz', 'Fvb jhu iybpzl bz', 'Flz lclu zovva bz', 'Iba voaol nbuz vm Iypeavu', 'Zova kvdu vu aol whcltlua', 'Dhpapun pu klhao yvd', 'Opz nhtl pz jhsslk zbycpcpu', 'Hz pu olhclu hz pu olss', 'Hufivkf dov thrlz zwlljolz dypaalu']\n"
          ],
          "name": "stdout"
        }
      ]
    },
    {
      "cell_type": "code",
      "metadata": {
        "colab": {
          "base_uri": "https://localhost:8080/"
        },
        "id": "lxV6IcnRa_XT",
        "outputId": "b1568f97-42dc-492c-fc9b-7a4414e1f595"
      },
      "source": [
        "a.append(data[1][:31])\n",
        "b.append(data[3])\n",
        "print(a)\n",
        "print(b)"
      ],
      "execution_count": null,
      "outputs": [
        {
          "output_type": "stream",
          "text": [
            "['London calling to the faraway towns', 'Now war is declared and battle come down', 'London calling just to the underworld', 'Come out of the cupboard you boys and girls', 'London calling now dont look to us', 'Phony Beatlemania has bitten the dust', 'London calling see we aint got no swing', 'Cept for the ring of that truncheon thing', 'The ice age is coming the sun is zooming in', 'Meltdown expected the wheat is growin thin', 'Engines stop running but I have no fear', 'Cause London is drowning and I I live by the river', 'London calling to the imitation zone', 'Forget it brother you can go it alone', 'London calling to the zombies of death', 'Quit holding out and draw another breath', 'London calling and I dont want to shout', 'But when we were talking I saw you nodding out', 'London calling see we aint got no high', 'Except for that one with the yellowy eye', 'Now get this', 'London calling yes I was there too', 'An you know what they said Well some of it was true', 'London calling at the top of the dial', 'And after all this wont you give me a smile', 'I never felt so much a like alike alike', 'When they kick at your front door', 'How you gonna come', 'With your hands on your head', 'Or on the trigger of your gun', 'When the law break in', 'How you gonna go', 'Shot down on the pavement', 'Or waiting on death row', 'You can crush us', 'You can bruise us', 'But youll have to answer to', 'Oh the guns of Brixton', 'The money feels good', 'And your life you like it well', 'But surely your time will come', 'As in heaven as in hell', 'You see he feels like Ivan', 'Born under the Brixton sun', 'His game is called survivin', 'At the end of the harder they come', 'You know it means no mercy', 'They caught him with a gun', 'No need for the Black Maria', 'Goodbye to the Brixton sun', 'You can crush us', 'You can bruise us', 'Yes even shoot us', 'But ohthe guns of Brixton', 'Shot down on the pavement', 'Waiting in death row', 'His game is called survivin', 'As in heaven as in hell', 'Anybody who makes speeches written', 'by someone else is just a robot']\n",
            "['Svukvu jhsspun av aol mhyhdhf avduz', 'Uvd dhy pz kljshylk huk ihaasl jvtl kvdu', 'Svukvu jhsspun qbza av aol buklydvysk', 'Jvtl vba vm aol jbwivhyk fvb ivfz huk npysz', 'Svukvu jhsspun uvd kvua svvr av bz', 'Wovuf Ilhaslthuph ohz ipaalu aol kbza', 'Svukvu jhsspun zll dl hpua nva uv zdpun', 'Jlwa mvy aol ypun vm aoha aybujolvu aopun', 'Aol pjl hnl pz jvtpun aol zbu pz gvvtpun pu', 'Tlsakvdu lewljalk aol dolha pz nyvdpu aopu', 'Lunpulz zavw ybuupun iba P ohcl uv mlhy', 'Jhbzl Svukvu pz kyvdupun huk P P spcl if aol ypcly', 'Svukvu jhsspun av aol ptpahapvu gvul', 'Mvynla pa iyvaoly fvb jhu nv pa hsvul', 'Svukvu jhsspun av aol gvtiplz vm klhao', 'Xbpa ovskpun vba huk kyhd huvaoly iylhao', 'Svukvu jhsspun huk P kvua dhua av zovba', 'Iba dolu dl dlyl ahsrpun P zhd fvb uvkkpun vba', 'Svukvu jhsspun zll dl hpua nva uv opno', 'Lejlwa mvy aoha vul dpao aol flssvdf lfl', 'Uvd nla aopz', 'Svukvu jhsspun flz P dhz aolyl avv', 'Hu fvb ruvd doha aolf zhpk Dlss zvtl vm pa dhz aybl', 'Svukvu jhsspun ha aol avw vm aol kphs', 'Huk hmaly hss aopz dvua fvb npcl tl h ztpsl', 'P ulcly mlsa zv tbjo h sprl hsprl hsprl', 'Dolu aolf rpjr ha fvby myvua kvvy', 'Ovd fvb nvuuh jvtl', 'Dpao fvby ohukz vu fvby olhk', 'Vy vu aol aypnnly vm fvby nbu', 'Dolu aol shd iylhr pu', 'Ovd fvb nvuuh nv', 'Zova kvdu vu aol whcltlua', 'Vy dhpapun vu klhao yvd', 'Fvb jhu jybzo bz', 'Fvb jhu iybpzl bz', 'Iba fvbss ohcl av huzdly av', 'Vo aol nbuz vm Iypeavu', 'Aol tvulf mllsz nvvk', 'Huk fvby spml fvb sprl pa dlss', 'Iba zbylsf fvby aptl dpss jvtl', 'Hz pu olhclu hz pu olss', 'Fvb zll ol mllsz sprl Pchu', 'Ivyu bukly aol Iypeavu zbu', 'Opz nhtl pz jhsslk zbycpcpu', 'Ha aol luk vm aol ohykly aolf jvtl', 'Fvb ruvd pa tlhuz uv tlyjf', 'Aolf jhbnoa opt dpao h nbu', 'Uv ullk mvy aol Ishjr Thyph', 'Nvvkifl av aol Iypeavu zbu', 'Fvb jhu jybzo bz', 'Fvb jhu iybpzl bz', 'Flz lclu zovva bz', 'Iba voaol nbuz vm Iypeavu', 'Zova kvdu vu aol whcltlua', 'Dhpapun pu klhao yvd', 'Opz nhtl pz jhsslk zbycpcpu', 'Hz pu olhclu hz pu olss', 'Hufivkf dov thrlz zwlljolz dypaalu', 'if zvtlvul lszl pz qbza h yviva']\n"
          ],
          "name": "stdout"
        }
      ]
    },
    {
      "cell_type": "code",
      "metadata": {
        "colab": {
          "base_uri": "https://localhost:8080/"
        },
        "id": "zxFComJrWq6e",
        "outputId": "51f567ac-2fb0-4598-8998-90d6489e84ae"
      },
      "source": [
        "#Generating plaintext ciphertext pairs for 80 percent of data\n",
        "table =[]\n",
        "for i,j in zip(a[:48],b[:48]):\n",
        "  pt = i.split()\n",
        "  ct = j.split()\n",
        "  for q,s in zip(pt, ct):\n",
        "    temp = []\n",
        "    temp.append(q)\n",
        "    temp.append(s)\n",
        "    table.append(temp)\n",
        "print(table)"
      ],
      "execution_count": null,
      "outputs": [
        {
          "output_type": "stream",
          "text": [
            "[['London', 'Svukvu'], ['calling', 'jhsspun'], ['to', 'av'], ['the', 'aol'], ['faraway', 'mhyhdhf'], ['towns', 'avduz'], ['Now', 'Uvd'], ['war', 'dhy'], ['is', 'pz'], ['declared', 'kljshylk'], ['and', 'huk'], ['battle', 'ihaasl'], ['come', 'jvtl'], ['down', 'kvdu'], ['London', 'Svukvu'], ['calling', 'jhsspun'], ['just', 'qbza'], ['to', 'av'], ['the', 'aol'], ['underworld', 'buklydvysk'], ['Come', 'Jvtl'], ['out', 'vba'], ['of', 'vm'], ['the', 'aol'], ['cupboard', 'jbwivhyk'], ['you', 'fvb'], ['boys', 'ivfz'], ['and', 'huk'], ['girls', 'npysz'], ['London', 'Svukvu'], ['calling', 'jhsspun'], ['now', 'uvd'], ['dont', 'kvua'], ['look', 'svvr'], ['to', 'av'], ['us', 'bz'], ['Phony', 'Wovuf'], ['Beatlemania', 'Ilhaslthuph'], ['has', 'ohz'], ['bitten', 'ipaalu'], ['the', 'aol'], ['dust', 'kbza'], ['London', 'Svukvu'], ['calling', 'jhsspun'], ['see', 'zll'], ['we', 'dl'], ['aint', 'hpua'], ['got', 'nva'], ['no', 'uv'], ['swing', 'zdpun'], ['Cept', 'Jlwa'], ['for', 'mvy'], ['the', 'aol'], ['ring', 'ypun'], ['of', 'vm'], ['that', 'aoha'], ['truncheon', 'aybujolvu'], ['thing', 'aopun'], ['The', 'Aol'], ['ice', 'pjl'], ['age', 'hnl'], ['is', 'pz'], ['coming', 'jvtpun'], ['the', 'aol'], ['sun', 'zbu'], ['is', 'pz'], ['zooming', 'gvvtpun'], ['in', 'pu'], ['Meltdown', 'Tlsakvdu'], ['expected', 'lewljalk'], ['the', 'aol'], ['wheat', 'dolha'], ['is', 'pz'], ['growin', 'nyvdpu'], ['thin', 'aopu'], ['Engines', 'Lunpulz'], ['stop', 'zavw'], ['running', 'ybuupun'], ['but', 'iba'], ['I', 'P'], ['have', 'ohcl'], ['no', 'uv'], ['fear', 'mlhy'], ['Cause', 'Jhbzl'], ['London', 'Svukvu'], ['is', 'pz'], ['drowning', 'kyvdupun'], ['and', 'huk'], ['I', 'P'], ['I', 'P'], ['live', 'spcl'], ['by', 'if'], ['the', 'aol'], ['river', 'ypcly'], ['London', 'Svukvu'], ['calling', 'jhsspun'], ['to', 'av'], ['the', 'aol'], ['imitation', 'ptpahapvu'], ['zone', 'gvul'], ['Forget', 'Mvynla'], ['it', 'pa'], ['brother', 'iyvaoly'], ['you', 'fvb'], ['can', 'jhu'], ['go', 'nv'], ['it', 'pa'], ['alone', 'hsvul'], ['London', 'Svukvu'], ['calling', 'jhsspun'], ['to', 'av'], ['the', 'aol'], ['zombies', 'gvtiplz'], ['of', 'vm'], ['death', 'klhao'], ['Quit', 'Xbpa'], ['holding', 'ovskpun'], ['out', 'vba'], ['and', 'huk'], ['draw', 'kyhd'], ['another', 'huvaoly'], ['breath', 'iylhao'], ['London', 'Svukvu'], ['calling', 'jhsspun'], ['and', 'huk'], ['I', 'P'], ['dont', 'kvua'], ['want', 'dhua'], ['to', 'av'], ['shout', 'zovba'], ['But', 'Iba'], ['when', 'dolu'], ['we', 'dl'], ['were', 'dlyl'], ['talking', 'ahsrpun'], ['I', 'P'], ['saw', 'zhd'], ['you', 'fvb'], ['nodding', 'uvkkpun'], ['out', 'vba'], ['London', 'Svukvu'], ['calling', 'jhsspun'], ['see', 'zll'], ['we', 'dl'], ['aint', 'hpua'], ['got', 'nva'], ['no', 'uv'], ['high', 'opno'], ['Except', 'Lejlwa'], ['for', 'mvy'], ['that', 'aoha'], ['one', 'vul'], ['with', 'dpao'], ['the', 'aol'], ['yellowy', 'flssvdf'], ['eye', 'lfl'], ['Now', 'Uvd'], ['get', 'nla'], ['this', 'aopz'], ['London', 'Svukvu'], ['calling', 'jhsspun'], ['yes', 'flz'], ['I', 'P'], ['was', 'dhz'], ['there', 'aolyl'], ['too', 'avv'], ['An', 'Hu'], ['you', 'fvb'], ['know', 'ruvd'], ['what', 'doha'], ['they', 'aolf'], ['said', 'zhpk'], ['Well', 'Dlss'], ['some', 'zvtl'], ['of', 'vm'], ['it', 'pa'], ['was', 'dhz'], ['true', 'aybl'], ['London', 'Svukvu'], ['calling', 'jhsspun'], ['at', 'ha'], ['the', 'aol'], ['top', 'avw'], ['of', 'vm'], ['the', 'aol'], ['dial', 'kphs'], ['And', 'Huk'], ['after', 'hmaly'], ['all', 'hss'], ['this', 'aopz'], ['wont', 'dvua'], ['you', 'fvb'], ['give', 'npcl'], ['me', 'tl'], ['a', 'h'], ['smile', 'ztpsl'], ['I', 'P'], ['never', 'ulcly'], ['felt', 'mlsa'], ['so', 'zv'], ['much', 'tbjo'], ['a', 'h'], ['like', 'sprl'], ['alike', 'hsprl'], ['alike', 'hsprl'], ['When', 'Dolu'], ['they', 'aolf'], ['kick', 'rpjr'], ['at', 'ha'], ['your', 'fvby'], ['front', 'myvua'], ['door', 'kvvy'], ['How', 'Ovd'], ['you', 'fvb'], ['gonna', 'nvuuh'], ['come', 'jvtl'], ['With', 'Dpao'], ['your', 'fvby'], ['hands', 'ohukz'], ['on', 'vu'], ['your', 'fvby'], ['head', 'olhk'], ['Or', 'Vy'], ['on', 'vu'], ['the', 'aol'], ['trigger', 'aypnnly'], ['of', 'vm'], ['your', 'fvby'], ['gun', 'nbu'], ['When', 'Dolu'], ['the', 'aol'], ['law', 'shd'], ['break', 'iylhr'], ['in', 'pu'], ['How', 'Ovd'], ['you', 'fvb'], ['gonna', 'nvuuh'], ['go', 'nv'], ['Shot', 'Zova'], ['down', 'kvdu'], ['on', 'vu'], ['the', 'aol'], ['pavement', 'whcltlua'], ['Or', 'Vy'], ['waiting', 'dhpapun'], ['on', 'vu'], ['death', 'klhao'], ['row', 'yvd'], ['You', 'Fvb'], ['can', 'jhu'], ['crush', 'jybzo'], ['us', 'bz'], ['You', 'Fvb'], ['can', 'jhu'], ['bruise', 'iybpzl'], ['us', 'bz'], ['But', 'Iba'], ['youll', 'fvbss'], ['have', 'ohcl'], ['to', 'av'], ['answer', 'huzdly'], ['to', 'av'], ['Oh', 'Vo'], ['the', 'aol'], ['guns', 'nbuz'], ['of', 'vm'], ['Brixton', 'Iypeavu'], ['The', 'Aol'], ['money', 'tvulf'], ['feels', 'mllsz'], ['good', 'nvvk'], ['And', 'Huk'], ['your', 'fvby'], ['life', 'spml'], ['you', 'fvb'], ['like', 'sprl'], ['it', 'pa'], ['well', 'dlss'], ['But', 'Iba'], ['surely', 'zbylsf'], ['your', 'fvby'], ['time', 'aptl'], ['will', 'dpss'], ['come', 'jvtl'], ['As', 'Hz'], ['in', 'pu'], ['heaven', 'olhclu'], ['as', 'hz'], ['in', 'pu'], ['hell', 'olss'], ['You', 'Fvb'], ['see', 'zll'], ['he', 'ol'], ['feels', 'mllsz'], ['like', 'sprl'], ['Ivan', 'Pchu'], ['Born', 'Ivyu'], ['under', 'bukly'], ['the', 'aol'], ['Brixton', 'Iypeavu'], ['sun', 'zbu'], ['His', 'Opz'], ['game', 'nhtl'], ['is', 'pz'], ['called', 'jhsslk'], ['survivin', 'zbycpcpu'], ['At', 'Ha'], ['the', 'aol'], ['end', 'luk'], ['of', 'vm'], ['the', 'aol'], ['harder', 'ohykly'], ['they', 'aolf'], ['come', 'jvtl'], ['You', 'Fvb'], ['know', 'ruvd'], ['it', 'pa'], ['means', 'tlhuz'], ['no', 'uv'], ['mercy', 'tlyjf'], ['They', 'Aolf'], ['caught', 'jhbnoa'], ['him', 'opt'], ['with', 'dpao'], ['a', 'h'], ['gun', 'nbu']]\n"
          ],
          "name": "stdout"
        }
      ]
    },
    {
      "cell_type": "code",
      "metadata": {
        "id": "WScgPNrMX4SV"
      },
      "source": [
        ""
      ],
      "execution_count": null,
      "outputs": []
    },
    {
      "cell_type": "code",
      "metadata": {
        "colab": {
          "base_uri": "https://localhost:8080/"
        },
        "id": "bGcWMLyKZNaX",
        "outputId": "127fc253-2be6-44b3-edab-d362124a68cd"
      },
      "source": [
        "print(table)"
      ],
      "execution_count": null,
      "outputs": [
        {
          "output_type": "stream",
          "text": [
            "[['London', 'Svukvu'], ['calling', 'jhsspun'], ['to', 'av'], ['the', 'aol'], ['faraway', 'mhyhdhf'], ['towns', 'avduz'], ['Now', 'Uvd'], ['war', 'dhy'], ['is', 'pz'], ['declared', 'kljshylk'], ['and', 'huk'], ['battle', 'ihaasl'], ['come', 'jvtl'], ['down', 'kvdu'], ['London', 'Svukvu'], ['calling', 'jhsspun'], ['just', 'qbza'], ['to', 'av'], ['the', 'aol'], ['underworld', 'buklydvysk'], ['Come', 'Jvtl'], ['out', 'vba'], ['of', 'vm'], ['the', 'aol'], ['cupboard', 'jbwivhyk'], ['you', 'fvb'], ['boys', 'ivfz'], ['and', 'huk'], ['girls', 'npysz'], ['London', 'Svukvu'], ['calling', 'jhsspun'], ['now', 'uvd'], ['dont', 'kvua'], ['look', 'svvr'], ['to', 'av'], ['us', 'bz'], ['Phony', 'Wovuf'], ['Beatlemania', 'Ilhaslthuph'], ['has', 'ohz'], ['bitten', 'ipaalu'], ['the', 'aol'], ['dust', 'kbza'], ['London', 'Svukvu'], ['calling', 'jhsspun'], ['see', 'zll'], ['we', 'dl'], ['aint', 'hpua'], ['got', 'nva'], ['no', 'uv'], ['swing', 'zdpun'], ['Cept', 'Jlwa'], ['for', 'mvy'], ['the', 'aol'], ['ring', 'ypun'], ['of', 'vm'], ['that', 'aoha'], ['truncheon', 'aybujolvu'], ['thing', 'aopun'], ['The', 'Aol'], ['ice', 'pjl'], ['age', 'hnl'], ['is', 'pz'], ['coming', 'jvtpun'], ['the', 'aol'], ['sun', 'zbu'], ['is', 'pz'], ['zooming', 'gvvtpun'], ['in', 'pu'], ['Meltdown', 'Tlsakvdu'], ['expected', 'lewljalk'], ['the', 'aol'], ['wheat', 'dolha'], ['is', 'pz'], ['growin', 'nyvdpu'], ['thin', 'aopu'], ['Engines', 'Lunpulz'], ['stop', 'zavw'], ['running', 'ybuupun'], ['but', 'iba'], ['I', 'P'], ['have', 'ohcl'], ['no', 'uv'], ['fear', 'mlhy'], ['Cause', 'Jhbzl'], ['London', 'Svukvu'], ['is', 'pz'], ['drowning', 'kyvdupun'], ['and', 'huk'], ['I', 'P'], ['I', 'P'], ['live', 'spcl'], ['by', 'if'], ['the', 'aol'], ['river', 'ypcly'], ['London', 'Svukvu'], ['calling', 'jhsspun'], ['to', 'av'], ['the', 'aol'], ['imitation', 'ptpahapvu'], ['zone', 'gvul'], ['Forget', 'Mvynla'], ['it', 'pa'], ['brother', 'iyvaoly'], ['you', 'fvb'], ['can', 'jhu'], ['go', 'nv'], ['it', 'pa'], ['alone', 'hsvul'], ['London', 'Svukvu'], ['calling', 'jhsspun'], ['to', 'av'], ['the', 'aol'], ['zombies', 'gvtiplz'], ['of', 'vm'], ['death', 'klhao'], ['Quit', 'Xbpa'], ['holding', 'ovskpun'], ['out', 'vba'], ['and', 'huk'], ['draw', 'kyhd'], ['another', 'huvaoly'], ['breath', 'iylhao'], ['London', 'Svukvu'], ['calling', 'jhsspun'], ['and', 'huk'], ['I', 'P'], ['dont', 'kvua'], ['want', 'dhua'], ['to', 'av'], ['shout', 'zovba'], ['But', 'Iba'], ['when', 'dolu'], ['we', 'dl'], ['were', 'dlyl'], ['talking', 'ahsrpun'], ['I', 'P'], ['saw', 'zhd'], ['you', 'fvb'], ['nodding', 'uvkkpun'], ['out', 'vba'], ['London', 'Svukvu'], ['calling', 'jhsspun'], ['see', 'zll'], ['we', 'dl'], ['aint', 'hpua'], ['got', 'nva'], ['no', 'uv'], ['high', 'opno'], ['Except', 'Lejlwa'], ['for', 'mvy'], ['that', 'aoha'], ['one', 'vul'], ['with', 'dpao'], ['the', 'aol'], ['yellowy', 'flssvdf'], ['eye', 'lfl'], ['Now', 'Uvd'], ['get', 'nla'], ['this', 'aopz'], ['London', 'Svukvu'], ['calling', 'jhsspun'], ['yes', 'flz'], ['I', 'P'], ['was', 'dhz'], ['there', 'aolyl'], ['too', 'avv'], ['An', 'Hu'], ['you', 'fvb'], ['know', 'ruvd'], ['what', 'doha'], ['they', 'aolf'], ['said', 'zhpk'], ['Well', 'Dlss'], ['some', 'zvtl'], ['of', 'vm'], ['it', 'pa'], ['was', 'dhz'], ['true', 'aybl'], ['London', 'Svukvu'], ['calling', 'jhsspun'], ['at', 'ha'], ['the', 'aol'], ['top', 'avw'], ['of', 'vm'], ['the', 'aol'], ['dial', 'kphs'], ['And', 'Huk'], ['after', 'hmaly'], ['all', 'hss'], ['this', 'aopz'], ['wont', 'dvua'], ['you', 'fvb'], ['give', 'npcl'], ['me', 'tl'], ['a', 'h'], ['smile', 'ztpsl'], ['I', 'P'], ['never', 'ulcly'], ['felt', 'mlsa'], ['so', 'zv'], ['much', 'tbjo'], ['a', 'h'], ['like', 'sprl'], ['alike', 'hsprl'], ['alike', 'hsprl'], ['When', 'Dolu'], ['they', 'aolf'], ['kick', 'rpjr'], ['at', 'ha'], ['your', 'fvby'], ['front', 'myvua'], ['door', 'kvvy'], ['How', 'Ovd'], ['you', 'fvb'], ['gonna', 'nvuuh'], ['come', 'jvtl'], ['With', 'Dpao'], ['your', 'fvby'], ['hands', 'ohukz'], ['on', 'vu'], ['your', 'fvby'], ['head', 'olhk'], ['Or', 'Vy'], ['on', 'vu'], ['the', 'aol'], ['trigger', 'aypnnly'], ['of', 'vm'], ['your', 'fvby'], ['gun', 'nbu'], ['When', 'Dolu'], ['the', 'aol'], ['law', 'shd'], ['break', 'iylhr'], ['in', 'pu'], ['How', 'Ovd'], ['you', 'fvb'], ['gonna', 'nvuuh'], ['go', 'nv'], ['Shot', 'Zova'], ['down', 'kvdu'], ['on', 'vu'], ['the', 'aol'], ['pavement', 'whcltlua'], ['Or', 'Vy'], ['waiting', 'dhpapun'], ['on', 'vu'], ['death', 'klhao'], ['row', 'yvd'], ['You', 'Fvb'], ['can', 'jhu'], ['crush', 'jybzo'], ['us', 'bz'], ['You', 'Fvb'], ['can', 'jhu'], ['bruise', 'iybpzl'], ['us', 'bz'], ['But', 'Iba'], ['youll', 'fvbss'], ['have', 'ohcl'], ['to', 'av'], ['answer', 'huzdly'], ['to', 'av'], ['Oh', 'Vo'], ['the', 'aol'], ['guns', 'nbuz'], ['of', 'vm'], ['Brixton', 'Iypeavu'], ['The', 'Aol'], ['money', 'tvulf'], ['feels', 'mllsz'], ['good', 'nvvk'], ['And', 'Huk'], ['your', 'fvby'], ['life', 'spml'], ['you', 'fvb'], ['like', 'sprl'], ['it', 'pa'], ['well', 'dlss'], ['But', 'Iba'], ['surely', 'zbylsf'], ['your', 'fvby'], ['time', 'aptl'], ['will', 'dpss'], ['come', 'jvtl'], ['As', 'Hz'], ['in', 'pu'], ['heaven', 'olhclu'], ['as', 'hz'], ['in', 'pu'], ['hell', 'olss'], ['You', 'Fvb'], ['see', 'zll'], ['he', 'ol'], ['feels', 'mllsz'], ['like', 'sprl'], ['Ivan', 'Pchu'], ['Born', 'Ivyu'], ['under', 'bukly'], ['the', 'aol'], ['Brixton', 'Iypeavu'], ['sun', 'zbu'], ['His', 'Opz'], ['game', 'nhtl'], ['is', 'pz'], ['called', 'jhsslk'], ['survivin', 'zbycpcpu'], ['At', 'Ha'], ['the', 'aol'], ['end', 'luk'], ['of', 'vm'], ['the', 'aol'], ['harder', 'ohykly'], ['they', 'aolf'], ['come', 'jvtl'], ['You', 'Fvb'], ['know', 'ruvd'], ['it', 'pa'], ['means', 'tlhuz'], ['no', 'uv'], ['mercy', 'tlyjf'], ['They', 'Aolf'], ['caught', 'jhbnoa'], ['him', 'opt'], ['with', 'dpao'], ['a', 'h'], ['gun', 'nbu']]\n"
          ],
          "name": "stdout"
        }
      ]
    },
    {
      "cell_type": "markdown",
      "metadata": {
        "id": "QbqHF6wDcFTd"
      },
      "source": [
        "Generating Transition Matrix"
      ]
    },
    {
      "cell_type": "code",
      "metadata": {
        "id": "sOjG8D_lcJYN"
      },
      "source": [
        "import pandas as pd"
      ],
      "execution_count": null,
      "outputs": []
    },
    {
      "cell_type": "code",
      "metadata": {
        "colab": {
          "base_uri": "https://localhost:8080/"
        },
        "id": "38pPH85QfmeY",
        "outputId": "1494d9b5-e34c-462f-b4dd-c6b4c6abdc86"
      },
      "source": [
        "rows = ['a','b','c','d','e','f','g','h','i','j','k','l','m','n','o','p','q','r','s','t','u','v','w','x','y','z']\n",
        "Transition_matrix = pd.DataFrame(0,columns = rows, index = rows)\n",
        "another = Transition_matrix = pd.DataFrame(0,columns = rows, index = rows)\n",
        "t_cipher = pd.DataFrame(0,columns = rows, index = rows)\n",
        "print(Transition_matrix)"
      ],
      "execution_count": null,
      "outputs": [
        {
          "output_type": "stream",
          "text": [
            "   a  b  c  d  e  f  g  h  i  j  k  l  m  n  o  p  q  r  s  t  u  v  w  x  y  z\n",
            "a  0  0  0  0  0  0  0  0  0  0  0  0  0  0  0  0  0  0  0  0  0  0  0  0  0  0\n",
            "b  0  0  0  0  0  0  0  0  0  0  0  0  0  0  0  0  0  0  0  0  0  0  0  0  0  0\n",
            "c  0  0  0  0  0  0  0  0  0  0  0  0  0  0  0  0  0  0  0  0  0  0  0  0  0  0\n",
            "d  0  0  0  0  0  0  0  0  0  0  0  0  0  0  0  0  0  0  0  0  0  0  0  0  0  0\n",
            "e  0  0  0  0  0  0  0  0  0  0  0  0  0  0  0  0  0  0  0  0  0  0  0  0  0  0\n",
            "f  0  0  0  0  0  0  0  0  0  0  0  0  0  0  0  0  0  0  0  0  0  0  0  0  0  0\n",
            "g  0  0  0  0  0  0  0  0  0  0  0  0  0  0  0  0  0  0  0  0  0  0  0  0  0  0\n",
            "h  0  0  0  0  0  0  0  0  0  0  0  0  0  0  0  0  0  0  0  0  0  0  0  0  0  0\n",
            "i  0  0  0  0  0  0  0  0  0  0  0  0  0  0  0  0  0  0  0  0  0  0  0  0  0  0\n",
            "j  0  0  0  0  0  0  0  0  0  0  0  0  0  0  0  0  0  0  0  0  0  0  0  0  0  0\n",
            "k  0  0  0  0  0  0  0  0  0  0  0  0  0  0  0  0  0  0  0  0  0  0  0  0  0  0\n",
            "l  0  0  0  0  0  0  0  0  0  0  0  0  0  0  0  0  0  0  0  0  0  0  0  0  0  0\n",
            "m  0  0  0  0  0  0  0  0  0  0  0  0  0  0  0  0  0  0  0  0  0  0  0  0  0  0\n",
            "n  0  0  0  0  0  0  0  0  0  0  0  0  0  0  0  0  0  0  0  0  0  0  0  0  0  0\n",
            "o  0  0  0  0  0  0  0  0  0  0  0  0  0  0  0  0  0  0  0  0  0  0  0  0  0  0\n",
            "p  0  0  0  0  0  0  0  0  0  0  0  0  0  0  0  0  0  0  0  0  0  0  0  0  0  0\n",
            "q  0  0  0  0  0  0  0  0  0  0  0  0  0  0  0  0  0  0  0  0  0  0  0  0  0  0\n",
            "r  0  0  0  0  0  0  0  0  0  0  0  0  0  0  0  0  0  0  0  0  0  0  0  0  0  0\n",
            "s  0  0  0  0  0  0  0  0  0  0  0  0  0  0  0  0  0  0  0  0  0  0  0  0  0  0\n",
            "t  0  0  0  0  0  0  0  0  0  0  0  0  0  0  0  0  0  0  0  0  0  0  0  0  0  0\n",
            "u  0  0  0  0  0  0  0  0  0  0  0  0  0  0  0  0  0  0  0  0  0  0  0  0  0  0\n",
            "v  0  0  0  0  0  0  0  0  0  0  0  0  0  0  0  0  0  0  0  0  0  0  0  0  0  0\n",
            "w  0  0  0  0  0  0  0  0  0  0  0  0  0  0  0  0  0  0  0  0  0  0  0  0  0  0\n",
            "x  0  0  0  0  0  0  0  0  0  0  0  0  0  0  0  0  0  0  0  0  0  0  0  0  0  0\n",
            "y  0  0  0  0  0  0  0  0  0  0  0  0  0  0  0  0  0  0  0  0  0  0  0  0  0  0\n",
            "z  0  0  0  0  0  0  0  0  0  0  0  0  0  0  0  0  0  0  0  0  0  0  0  0  0  0\n"
          ],
          "name": "stdout"
        }
      ]
    },
    {
      "cell_type": "code",
      "metadata": {
        "colab": {
          "base_uri": "https://localhost:8080/"
        },
        "id": "Quu7E528NL4u",
        "outputId": "c03b35da-5df6-4357-8013-2af8ba246507"
      },
      "source": [
        "for i in a[:48]:\n",
        " #print(i)\n",
        " rem_space = \"\".join(i.split())\n",
        " for j in range(len(rem_space)-1):\n",
        "  Transition_matrix[rem_space[j+1].lower()][rem_space[j].lower()] = Transition_matrix[rem_space[j+1].lower()][rem_space[j].lower()]+1\n",
        "print(Transition_matrix)"
      ],
      "execution_count": null,
      "outputs": [
        {
          "output_type": "stream",
          "text": [
            "    a  b   c   d   e  f   g   h   i  j  k  ...  p  q   r   s   t   u  v   w  x  y  z\n",
            "a   0  0   1   1   0  1   3   1   4  0  1  ...  0  0   6   6  13   2  4   4  0  1  0\n",
            "b   1  0   0   0   1  0   0   0   2  0  0  ...  0  0   6   0   0   4  0   0  0  1  0\n",
            "c  16  0   0   0   3  0   0   2   0  0  1  ...  0  0   1   0   1   1  0   0  0  1  0\n",
            "d   2  1   0   2   6  0   1   0   5  0  0  ...  0  0   2   2   1   1  0   1  0  2  0\n",
            "e  16  2   4   6   6  2   1   2   6  0  0  ...  3  0  15   4   7   2  1   6  2  8  1\n",
            "f   1  1   0   1   5  0   0   0   1  0  0  ...  0  0   1   0   5   0  0   0  0  1  0\n",
            "g   4  1   0   0   4  0   1   2   5  1  0  ...  0  0   1   2   4   3  0   0  0  1  0\n",
            "h  10  0   0   0  38  0   0   0   7  0  0  ...  0  0   1   0   3   1  0   0  0  1  0\n",
            "i   2  0   2   2   1  1   2   1   1  0  5  ...  0  0   1  11  12   0  5   1  2  0  0\n",
            "j   0  0   0   0   0  0   0   0   0  0  0  ...  0  0   0   0   0   1  0   0  0  0  0\n",
            "k   1  0   0   0   5  0   0   0   3  0  0  ...  0  0   0   0   1   0  0   0  0  0  0\n",
            "l   2  0   1   2   4  0   0   1  17  0  1  ...  0  0   0   4   3   0  0   0  0  1  0\n",
            "m   1  1   0   0  13  0   0   0   4  0  0  ...  0  0   0   0   0   1  0   1  0  0  0\n",
            "n   3  1  12  23   7  0  23   2   5  0  0  ...  0  0   0   5  15   1  0   1  0  3  1\n",
            "o   2  0   0   2   0  9   0   2   1  0  1  ...  2  0   8   2   9  24  0  15  0  1  0\n",
            "p   1  1   0   0   1  0   0   1   0  0  0  ...  0  0   1   0   2   0  0   0  0  0  0\n",
            "q   0  0   0   0   0  0   0   0   0  0  0  ...  0  0   0   0   0   1  0   0  0  0  0\n",
            "r   3  1   1   2   6  2   2   2   6  0  0  ...  0  0   0   0   6   5  1   2  0  1  0\n",
            "s   3  1   2   2   5  0   3   3   3  0  0  ...  0  0   0   1   5   4  0   3  0  0  1\n",
            "t   4  1   0   3   3  2   2  43   6  0  0  ...  0  0   3   2   9   0  0   4  0  3  0\n",
            "u   0  1   4   0   1  0   4   0   2  0  2  ...  1  0   8   8   8   0  0   0  0  0  0\n",
            "v   1  0   0   0   8  0   0   0   2  0  0  ...  0  0   0   0   0   0  0   0  0  0  0\n",
            "w   7  1   0   1   7  0   1   5   7  0  0  ...  0  0   0   0   0   0  0   2  0  4  0\n",
            "x   0  0   1   0   0  0   0   0   0  0  0  ...  1  0   0   0   2   0  0   0  0  0  0\n",
            "y   0  1   2   0   4  1   0   0   0  0  1  ...  0  0   0   2   2   0  0   0  0  1  0\n",
            "z   0  0   0   0   0  0   0   0   0  0  0  ...  0  0   0   0   0   0  0   0  0  0  0\n",
            "\n",
            "[26 rows x 26 columns]\n"
          ],
          "name": "stdout"
        }
      ]
    },
    {
      "cell_type": "code",
      "metadata": {
        "colab": {
          "base_uri": "https://localhost:8080/"
        },
        "id": "_5747X5XiSw2",
        "outputId": "b1797017-ae34-4777-f2f3-d44d20f9b503"
      },
      "source": [
        "#Transition_matrix contains lettter wise bigram freq of plaintext\n",
        "#t_cipher contains lettter wise bigram freq of ciphertext\n",
        "for i in table:\n",
        "  for j in range(len(i[1])-1):\n",
        "    t_cipher[i[1][j+1].lower()][i[1][j].lower()] = t_cipher[i[1][j+1].lower()][i[1][j].lower()] + 1 \n",
        "print(t_cipher)"
      ],
      "execution_count": null,
      "outputs": [
        {
          "output_type": "stream",
          "text": [
            "    a   b  c   d  e  f  g   h  i  j   k  ...   p  q  r   s  t   u   v  w  x   y   z\n",
            "a   2   0  0   0  0  0  0   2  0  0   1  ...   3  0  0   2  0   0  14  0  0   3   0\n",
            "b   8   0  0   0  0  0  0   0  0  1   0  ...   2  0  0   1  0   9   0  1  0   8   7\n",
            "c   0   0  0   0  0  0  0   1  0  0   0  ...   2  0  0   0  0   0   0  0  0   0   0\n",
            "d   0   0  0   0  0  1  0   6  0  0   0  ...   6  0  0   0  0   5   2  0  0   0   0\n",
            "e   2   0  0   0  0  0  0   0  0  1   0  ...   0  0  0   0  0   0   0  1  0   0   0\n",
            "f   0   0  0   0  0  0  0   0  0  0   0  ...   0  0  0   0  0   0  19  0  0   0   1\n",
            "g   0   0  0   0  0  0  0   0  0  0   0  ...   0  0  0   0  0   0   3  0  0   0   0\n",
            "h  13   2  4   4  0  1  0   0  0  0   1  ...   4  0  1  17  1  18   0  0  0   6   5\n",
            "i   0   4  0   0  0  1  0   1  0  0   0  ...   2  0  0   0  0   0   3  0  0   6   0\n",
            "j   1   1  0   0  0  1  0  16  0  0   0  ...   0  0  1   1  0   0   6  0  0   1   0\n",
            "k   0   1  0   0  0  0  0   0  0  0   1  ...   3  0  0   0  0   0  17  0  0   2   1\n",
            "l   2   0  1   0  2  6  0  10  0  2   3  ...   0  0  0   9  2   8   1  2  0  13   3\n",
            "m   1   0  0   0  0  0  0   1  0  0   0  ...   0  0  0   0  0   0   3  0  0   1   0\n",
            "n   0   3  0   0  0  0  0   1  0  0   0  ...   3  0  0   0  0   0   7  0  0   1   0\n",
            "o   1   0  0   0  0  0  0   8  0  0   0  ...   7  0  0   0  0   0   6  0  0   0   0\n",
            "p  12   0  5   0  2  0  0   2  0  2   1  ...   0  0  5   2  3  31   1  0  0   1  10\n",
            "q   0   1  0   0  0  0  0   0  0  0   0  ...   0  0  0   0  0   0   0  0  0   0   0\n",
            "r   0   0  0   0  0  0  0   0  0  0   0  ...   2  0  0   0  0   2   0  0  0   0   0\n",
            "s   2   0  0   0  0  1  0   2  0  0   2  ...  17  0  1  18  0   0  14  0  0   0   3\n",
            "t   0   1  0   0  0  0  0   1  1  0   0  ...   4  0  0   0  0   0   1  0  0   0   0\n",
            "u   8   0  0   0  0  1  0   2  0  1  22  ...   3  0  0   0  0   3  11  0  0   0   4\n",
            "v   5  23  0  15  0  1  0   1  0  0   2  ...   0  0  1   1  9  41   5  2  0   8   0\n",
            "w   2   0  0   0  0  0  0   1  1  0   0  ...   0  0  0   0  0   0   0  0  0   0   0\n",
            "x   0   1  0   0  0  0  0   0  0  0   0  ...   0  0  0   0  0   0   0  0  0   0   0\n",
            "y   0   5  1   1  0  0  0   2  0  1   2  ...   5  0  0   2  0   1   5  0  0   0   0\n",
            "z   3   4  0   2  0  0  0   2  0  0   0  ...   0  0  0   0  1   0   2  0  0   0   0\n",
            "\n",
            "[26 rows x 26 columns]\n"
          ],
          "name": "stdout"
        }
      ]
    },
    {
      "cell_type": "code",
      "metadata": {
        "colab": {
          "base_uri": "https://localhost:8080/"
        },
        "id": "pA6gcIhIl68K",
        "outputId": "2f0e0cbc-0764-48d0-d481-e1c3a9d43e33"
      },
      "source": [
        "t_prob = pd.DataFrame(0.0, columns = rows, index = rows)\n",
        "#Finding Probabilities\n",
        "for i in Transition_matrix.index:\n",
        "  addition = sum(Transition_matrix.loc[i])\n",
        "  #print(addition)\n",
        "  for j in range(len(Transition_matrix.loc[i])):\n",
        "   # print(j)\n",
        "    t_prob[chr(j+97)][i] = Transition_matrix[chr(j+97)][i]/addition\n",
        "print(t_prob)"
      ],
      "execution_count": null,
      "outputs": [
        {
          "output_type": "stream",
          "text": [
            "          a         b         c  ...         x         y         z\n",
            "a  0.000000  0.000000  0.011765  ...  0.000000  0.011765  0.000000\n",
            "b  0.055556  0.000000  0.000000  ...  0.000000  0.055556  0.000000\n",
            "c  0.484848  0.000000  0.000000  ...  0.000000  0.030303  0.000000\n",
            "d  0.045455  0.022727  0.000000  ...  0.000000  0.045455  0.000000\n",
            "e  0.132231  0.016529  0.033058  ...  0.016529  0.066116  0.008264\n",
            "f  0.052632  0.052632  0.000000  ...  0.000000  0.052632  0.000000\n",
            "g  0.097561  0.024390  0.000000  ...  0.000000  0.024390  0.000000\n",
            "h  0.149254  0.000000  0.000000  ...  0.000000  0.014925  0.000000\n",
            "i  0.022727  0.000000  0.022727  ...  0.022727  0.000000  0.000000\n",
            "j  0.000000  0.000000  0.000000  ...  0.000000  0.000000  0.000000\n",
            "k  0.083333  0.000000  0.000000  ...  0.000000  0.000000  0.000000\n",
            "l  0.029412  0.000000  0.014706  ...  0.000000  0.014706  0.000000\n",
            "m  0.045455  0.045455  0.000000  ...  0.000000  0.000000  0.000000\n",
            "n  0.025641  0.008547  0.102564  ...  0.000000  0.025641  0.008547\n",
            "o  0.014706  0.000000  0.000000  ...  0.000000  0.007353  0.000000\n",
            "p  0.125000  0.125000  0.000000  ...  0.000000  0.000000  0.000000\n",
            "q  0.000000  0.000000  0.000000  ...  0.000000  0.000000  0.000000\n",
            "r  0.058824  0.019608  0.019608  ...  0.000000  0.019608  0.000000\n",
            "s  0.068182  0.022727  0.045455  ...  0.000000  0.000000  0.022727\n",
            "t  0.037383  0.009346  0.000000  ...  0.000000  0.028037  0.000000\n",
            "u  0.000000  0.019608  0.078431  ...  0.000000  0.000000  0.000000\n",
            "v  0.090909  0.000000  0.000000  ...  0.000000  0.000000  0.000000\n",
            "w  0.166667  0.023810  0.000000  ...  0.000000  0.095238  0.000000\n",
            "x  0.000000  0.000000  0.250000  ...  0.000000  0.000000  0.000000\n",
            "y  0.000000  0.030303  0.060606  ...  0.000000  0.030303  0.000000\n",
            "z  0.000000  0.000000  0.000000  ...  0.000000  0.000000  0.000000\n",
            "\n",
            "[26 rows x 26 columns]\n"
          ],
          "name": "stdout"
        }
      ]
    },
    {
      "cell_type": "code",
      "metadata": {
        "colab": {
          "base_uri": "https://localhost:8080/"
        },
        "id": "K9qyaD_3UHc3",
        "outputId": "eab62a3f-d283-47b0-a76a-62b51e677dc1"
      },
      "source": [
        "print(table)"
      ],
      "execution_count": null,
      "outputs": [
        {
          "output_type": "stream",
          "text": [
            "[['London', 'Svukvu'], ['calling', 'jhsspun'], ['to', 'av'], ['the', 'aol'], ['faraway', 'mhyhdhf'], ['towns', 'avduz'], ['Now', 'Uvd'], ['war', 'dhy'], ['is', 'pz'], ['declared', 'kljshylk'], ['and', 'huk'], ['battle', 'ihaasl'], ['come', 'jvtl'], ['down', 'kvdu'], ['London', 'Svukvu'], ['calling', 'jhsspun'], ['just', 'qbza'], ['to', 'av'], ['the', 'aol'], ['underworld', 'buklydvysk'], ['Come', 'Jvtl'], ['out', 'vba'], ['of', 'vm'], ['the', 'aol'], ['cupboard', 'jbwivhyk'], ['you', 'fvb'], ['boys', 'ivfz'], ['and', 'huk'], ['girls', 'npysz'], ['London', 'Svukvu'], ['calling', 'jhsspun'], ['now', 'uvd'], ['dont', 'kvua'], ['look', 'svvr'], ['to', 'av'], ['us', 'bz'], ['Phony', 'Wovuf'], ['Beatlemania', 'Ilhaslthuph'], ['has', 'ohz'], ['bitten', 'ipaalu'], ['the', 'aol'], ['dust', 'kbza'], ['London', 'Svukvu'], ['calling', 'jhsspun'], ['see', 'zll'], ['we', 'dl'], ['aint', 'hpua'], ['got', 'nva'], ['no', 'uv'], ['swing', 'zdpun'], ['Cept', 'Jlwa'], ['for', 'mvy'], ['the', 'aol'], ['ring', 'ypun'], ['of', 'vm'], ['that', 'aoha'], ['truncheon', 'aybujolvu'], ['thing', 'aopun'], ['The', 'Aol'], ['ice', 'pjl'], ['age', 'hnl'], ['is', 'pz'], ['coming', 'jvtpun'], ['the', 'aol'], ['sun', 'zbu'], ['is', 'pz'], ['zooming', 'gvvtpun'], ['in', 'pu'], ['Meltdown', 'Tlsakvdu'], ['expected', 'lewljalk'], ['the', 'aol'], ['wheat', 'dolha'], ['is', 'pz'], ['growin', 'nyvdpu'], ['thin', 'aopu'], ['Engines', 'Lunpulz'], ['stop', 'zavw'], ['running', 'ybuupun'], ['but', 'iba'], ['I', 'P'], ['have', 'ohcl'], ['no', 'uv'], ['fear', 'mlhy'], ['Cause', 'Jhbzl'], ['London', 'Svukvu'], ['is', 'pz'], ['drowning', 'kyvdupun'], ['and', 'huk'], ['I', 'P'], ['I', 'P'], ['live', 'spcl'], ['by', 'if'], ['the', 'aol'], ['river', 'ypcly'], ['London', 'Svukvu'], ['calling', 'jhsspun'], ['to', 'av'], ['the', 'aol'], ['imitation', 'ptpahapvu'], ['zone', 'gvul'], ['Forget', 'Mvynla'], ['it', 'pa'], ['brother', 'iyvaoly'], ['you', 'fvb'], ['can', 'jhu'], ['go', 'nv'], ['it', 'pa'], ['alone', 'hsvul'], ['London', 'Svukvu'], ['calling', 'jhsspun'], ['to', 'av'], ['the', 'aol'], ['zombies', 'gvtiplz'], ['of', 'vm'], ['death', 'klhao'], ['Quit', 'Xbpa'], ['holding', 'ovskpun'], ['out', 'vba'], ['and', 'huk'], ['draw', 'kyhd'], ['another', 'huvaoly'], ['breath', 'iylhao'], ['London', 'Svukvu'], ['calling', 'jhsspun'], ['and', 'huk'], ['I', 'P'], ['dont', 'kvua'], ['want', 'dhua'], ['to', 'av'], ['shout', 'zovba'], ['But', 'Iba'], ['when', 'dolu'], ['we', 'dl'], ['were', 'dlyl'], ['talking', 'ahsrpun'], ['I', 'P'], ['saw', 'zhd'], ['you', 'fvb'], ['nodding', 'uvkkpun'], ['out', 'vba'], ['London', 'Svukvu'], ['calling', 'jhsspun'], ['see', 'zll'], ['we', 'dl'], ['aint', 'hpua'], ['got', 'nva'], ['no', 'uv'], ['high', 'opno'], ['Except', 'Lejlwa'], ['for', 'mvy'], ['that', 'aoha'], ['one', 'vul'], ['with', 'dpao'], ['the', 'aol'], ['yellowy', 'flssvdf'], ['eye', 'lfl'], ['Now', 'Uvd'], ['get', 'nla'], ['this', 'aopz'], ['London', 'Svukvu'], ['calling', 'jhsspun'], ['yes', 'flz'], ['I', 'P'], ['was', 'dhz'], ['there', 'aolyl'], ['too', 'avv'], ['An', 'Hu'], ['you', 'fvb'], ['know', 'ruvd'], ['what', 'doha'], ['they', 'aolf'], ['said', 'zhpk'], ['Well', 'Dlss'], ['some', 'zvtl'], ['of', 'vm'], ['it', 'pa'], ['was', 'dhz'], ['true', 'aybl'], ['London', 'Svukvu'], ['calling', 'jhsspun'], ['at', 'ha'], ['the', 'aol'], ['top', 'avw'], ['of', 'vm'], ['the', 'aol'], ['dial', 'kphs'], ['And', 'Huk'], ['after', 'hmaly'], ['all', 'hss'], ['this', 'aopz'], ['wont', 'dvua'], ['you', 'fvb'], ['give', 'npcl'], ['me', 'tl'], ['a', 'h'], ['smile', 'ztpsl'], ['I', 'P'], ['never', 'ulcly'], ['felt', 'mlsa'], ['so', 'zv'], ['much', 'tbjo'], ['a', 'h'], ['like', 'sprl'], ['alike', 'hsprl'], ['alike', 'hsprl'], ['When', 'Dolu'], ['they', 'aolf'], ['kick', 'rpjr'], ['at', 'ha'], ['your', 'fvby'], ['front', 'myvua'], ['door', 'kvvy'], ['How', 'Ovd'], ['you', 'fvb'], ['gonna', 'nvuuh'], ['come', 'jvtl'], ['With', 'Dpao'], ['your', 'fvby'], ['hands', 'ohukz'], ['on', 'vu'], ['your', 'fvby'], ['head', 'olhk'], ['Or', 'Vy'], ['on', 'vu'], ['the', 'aol'], ['trigger', 'aypnnly'], ['of', 'vm'], ['your', 'fvby'], ['gun', 'nbu'], ['When', 'Dolu'], ['the', 'aol'], ['law', 'shd'], ['break', 'iylhr'], ['in', 'pu'], ['How', 'Ovd'], ['you', 'fvb'], ['gonna', 'nvuuh'], ['go', 'nv'], ['Shot', 'Zova'], ['down', 'kvdu'], ['on', 'vu'], ['the', 'aol'], ['pavement', 'whcltlua'], ['Or', 'Vy'], ['waiting', 'dhpapun'], ['on', 'vu'], ['death', 'klhao'], ['row', 'yvd'], ['You', 'Fvb'], ['can', 'jhu'], ['crush', 'jybzo'], ['us', 'bz'], ['You', 'Fvb'], ['can', 'jhu'], ['bruise', 'iybpzl'], ['us', 'bz'], ['But', 'Iba'], ['youll', 'fvbss'], ['have', 'ohcl'], ['to', 'av'], ['answer', 'huzdly'], ['to', 'av'], ['Oh', 'Vo'], ['the', 'aol'], ['guns', 'nbuz'], ['of', 'vm'], ['Brixton', 'Iypeavu'], ['The', 'Aol'], ['money', 'tvulf'], ['feels', 'mllsz'], ['good', 'nvvk'], ['And', 'Huk'], ['your', 'fvby'], ['life', 'spml'], ['you', 'fvb'], ['like', 'sprl'], ['it', 'pa'], ['well', 'dlss'], ['But', 'Iba'], ['surely', 'zbylsf'], ['your', 'fvby'], ['time', 'aptl'], ['will', 'dpss'], ['come', 'jvtl'], ['As', 'Hz'], ['in', 'pu'], ['heaven', 'olhclu'], ['as', 'hz'], ['in', 'pu'], ['hell', 'olss'], ['You', 'Fvb'], ['see', 'zll'], ['he', 'ol'], ['feels', 'mllsz'], ['like', 'sprl'], ['Ivan', 'Pchu'], ['Born', 'Ivyu'], ['under', 'bukly'], ['the', 'aol'], ['Brixton', 'Iypeavu'], ['sun', 'zbu'], ['His', 'Opz'], ['game', 'nhtl'], ['is', 'pz'], ['called', 'jhsslk'], ['survivin', 'zbycpcpu'], ['At', 'Ha'], ['the', 'aol'], ['end', 'luk'], ['of', 'vm'], ['the', 'aol'], ['harder', 'ohykly'], ['they', 'aolf'], ['come', 'jvtl'], ['You', 'Fvb'], ['know', 'ruvd'], ['it', 'pa'], ['means', 'tlhuz'], ['no', 'uv'], ['mercy', 'tlyjf'], ['They', 'Aolf'], ['caught', 'jhbnoa'], ['him', 'opt'], ['with', 'dpao'], ['a', 'h'], ['gun', 'nbu']]\n"
          ],
          "name": "stdout"
        }
      ]
    },
    {
      "cell_type": "code",
      "metadata": {
        "colab": {
          "base_uri": "https://localhost:8080/"
        },
        "id": "DeL7nowRUOFq",
        "outputId": "1d6f05b9-12a6-46c6-8955-cc09194e1a9d"
      },
      "source": [
        "#Calculating occurrences of plaintext ciphertext pair\n",
        "plain_cipher_freq = pd.DataFrame(0, columns = rows, index = rows)\n",
        "for pair in table:\n",
        "  for i, j in zip(pair[0], pair[1]):\n",
        "    plain_cipher_freq[j.lower()][i.lower()] = plain_cipher_freq[j.lower()][i.lower()] + 1\n",
        "\n",
        "print(plain_cipher_freq)\n"
      ],
      "execution_count": null,
      "outputs": [
        {
          "output_type": "stream",
          "text": [
            "     a   b   c   d  e   f  g   h   i   j  ...  q   r   s   t    u    v  w  x   y   z\n",
            "a    0   0   0   0  0   0  0  85   0   0  ...  0   0   0   0    0    0  0  0   0   0\n",
            "b    0   0   0   0  0   0  0   0  18   0  ...  0   0   0   0    0    0  0  0   0   0\n",
            "c    0   0   0   0  0   0  0   0   0  33  ...  0   0   0   0    0    0  0  0   0   0\n",
            "d    0   0   0   0  0   0  0   0   0   0  ...  0   0   0   0    0    0  0  0   0   0\n",
            "e    0   0   0   0  0   0  0   0   0   0  ...  0   0   0   0    0    0  0  0   0   0\n",
            "f    0   0   0   0  0   0  0   0   0   0  ...  0   0   0   0    0    0  0  0   0   0\n",
            "g    0   0   0   0  0   0  0   0   0   0  ...  0   0   0   0    0    0  0  0   0   0\n",
            "h    0   0   0   0  0   0  0   0   0   0  ...  0   0   0   0    0    0  0  0   0   0\n",
            "i    0   0   0   0  0   0  0   0   0   0  ...  0   0   0   0    0    0  0  0   0   0\n",
            "j    0   0   0   0  0   0  0   0   0   0  ...  1   0   0   0    0    0  0  0   0   0\n",
            "k    0   0   0   0  0   0  0   0   0   0  ...  0  12   0   0    0    0  0  0   0   0\n",
            "l    0   0   0   0  0   0  0   0   0   0  ...  0   0  71   0    0    0  0  0   0   0\n",
            "m    0   0   0   0  0   0  0   0   0   0  ...  0   0   0  22    0    0  0  0   0   0\n",
            "n    0   0   0   0  0   0  0   0   0   0  ...  0   0   0   0  127    0  0  0   0   0\n",
            "o    0   0   0   0  0   0  0   0   0   0  ...  0   0   0   0    0  139  0  0   0   0\n",
            "p    0   0   0   0  0   0  0   0   0   0  ...  0   0   0   0    0    0  8  0   0   0\n",
            "q    0   0   0   0  0   0  0   0   0   0  ...  0   0   0   0    0    0  0  1   0   0\n",
            "r    0   0   0   0  0   0  0   0   0   0  ...  0   0   0   0    0    0  0  0  54   0\n",
            "s    0   0   0   0  0   0  0   0   0   0  ...  0   0   0   0    0    0  0  0   0  50\n",
            "t  111   0   0   0  0   0  0   0   0   0  ...  0   0   0   0    0    0  0  0   0   0\n",
            "u    0  51   0   0  0   0  0   0   0   0  ...  0   0   0   0    0    0  0  0   0   0\n",
            "v    0   0  11   0  0   0  0   0   0   0  ...  0   0   0   0    0    0  0  0   0   0\n",
            "w    0   0   0  43  0   0  0   0   0   0  ...  0   0   0   0    0    0  0  0   0   0\n",
            "x    0   0   0   0  4   0  0   0   0   0  ...  0   0   0   0    0    0  0  0   0   0\n",
            "y    0   0   0   0  0  34  0   0   0   0  ...  0   0   0   0    0    0  0  0   0   0\n",
            "z    0   0   0   0  0   0  3   0   0   0  ...  0   0   0   0    0    0  0  0   0   0\n",
            "\n",
            "[26 rows x 26 columns]\n"
          ],
          "name": "stdout"
        }
      ]
    },
    {
      "cell_type": "code",
      "metadata": {
        "colab": {
          "base_uri": "https://localhost:8080/"
        },
        "id": "i2nRECnhV0MS",
        "outputId": "e6c889ba-e3c2-47b2-ca1f-b15d231fe658"
      },
      "source": [
        "#Calculating probability of plaintext ciphertext pair\n",
        "Emission_matrix = pd.DataFrame(0.0, columns = rows, index = rows)\n",
        "for i in plain_cipher_freq.index:\n",
        "  addition = sum(plain_cipher_freq.loc[i])\n",
        "  for j in range(len(plain_cipher_freq.loc[i])):\n",
        "    Emission_matrix[chr(j+97)][i] = plain_cipher_freq[chr(j+97)][i]/addition\n",
        "print(Emission_matrix)"
      ],
      "execution_count": null,
      "outputs": [
        {
          "output_type": "stream",
          "text": [
            "     a    b    c    d    e    f    g  ...    t    u    v    w    x    y    z\n",
            "a  0.0  0.0  0.0  0.0  0.0  0.0  0.0  ...  0.0  0.0  0.0  0.0  0.0  0.0  0.0\n",
            "b  0.0  0.0  0.0  0.0  0.0  0.0  0.0  ...  0.0  0.0  0.0  0.0  0.0  0.0  0.0\n",
            "c  0.0  0.0  0.0  0.0  0.0  0.0  0.0  ...  0.0  0.0  0.0  0.0  0.0  0.0  0.0\n",
            "d  0.0  0.0  0.0  0.0  0.0  0.0  0.0  ...  0.0  0.0  0.0  0.0  0.0  0.0  0.0\n",
            "e  0.0  0.0  0.0  0.0  0.0  0.0  0.0  ...  0.0  0.0  0.0  0.0  0.0  0.0  0.0\n",
            "f  0.0  0.0  0.0  0.0  0.0  0.0  0.0  ...  0.0  0.0  0.0  0.0  0.0  0.0  0.0\n",
            "g  0.0  0.0  0.0  0.0  0.0  0.0  0.0  ...  0.0  0.0  0.0  0.0  0.0  0.0  0.0\n",
            "h  0.0  0.0  0.0  0.0  0.0  0.0  0.0  ...  0.0  0.0  0.0  0.0  0.0  0.0  0.0\n",
            "i  0.0  0.0  0.0  0.0  0.0  0.0  0.0  ...  0.0  0.0  0.0  0.0  0.0  0.0  0.0\n",
            "j  0.0  0.0  0.0  0.0  0.0  0.0  0.0  ...  0.0  0.0  0.0  0.0  0.0  0.0  0.0\n",
            "k  0.0  0.0  0.0  0.0  0.0  0.0  0.0  ...  0.0  0.0  0.0  0.0  0.0  0.0  0.0\n",
            "l  0.0  0.0  0.0  0.0  0.0  0.0  0.0  ...  0.0  0.0  0.0  0.0  0.0  0.0  0.0\n",
            "m  0.0  0.0  0.0  0.0  0.0  0.0  0.0  ...  1.0  0.0  0.0  0.0  0.0  0.0  0.0\n",
            "n  0.0  0.0  0.0  0.0  0.0  0.0  0.0  ...  0.0  1.0  0.0  0.0  0.0  0.0  0.0\n",
            "o  0.0  0.0  0.0  0.0  0.0  0.0  0.0  ...  0.0  0.0  1.0  0.0  0.0  0.0  0.0\n",
            "p  0.0  0.0  0.0  0.0  0.0  0.0  0.0  ...  0.0  0.0  0.0  1.0  0.0  0.0  0.0\n",
            "q  0.0  0.0  0.0  0.0  0.0  0.0  0.0  ...  0.0  0.0  0.0  0.0  1.0  0.0  0.0\n",
            "r  0.0  0.0  0.0  0.0  0.0  0.0  0.0  ...  0.0  0.0  0.0  0.0  0.0  1.0  0.0\n",
            "s  0.0  0.0  0.0  0.0  0.0  0.0  0.0  ...  0.0  0.0  0.0  0.0  0.0  0.0  1.0\n",
            "t  1.0  0.0  0.0  0.0  0.0  0.0  0.0  ...  0.0  0.0  0.0  0.0  0.0  0.0  0.0\n",
            "u  0.0  1.0  0.0  0.0  0.0  0.0  0.0  ...  0.0  0.0  0.0  0.0  0.0  0.0  0.0\n",
            "v  0.0  0.0  1.0  0.0  0.0  0.0  0.0  ...  0.0  0.0  0.0  0.0  0.0  0.0  0.0\n",
            "w  0.0  0.0  0.0  1.0  0.0  0.0  0.0  ...  0.0  0.0  0.0  0.0  0.0  0.0  0.0\n",
            "x  0.0  0.0  0.0  0.0  1.0  0.0  0.0  ...  0.0  0.0  0.0  0.0  0.0  0.0  0.0\n",
            "y  0.0  0.0  0.0  0.0  0.0  1.0  0.0  ...  0.0  0.0  0.0  0.0  0.0  0.0  0.0\n",
            "z  0.0  0.0  0.0  0.0  0.0  0.0  1.0  ...  0.0  0.0  0.0  0.0  0.0  0.0  0.0\n",
            "\n",
            "[26 rows x 26 columns]\n"
          ],
          "name": "stdout"
        }
      ]
    },
    {
      "cell_type": "code",
      "metadata": {
        "id": "wACNxk4PlmrB"
      },
      "source": [
        "#Initial prob \n",
        "pi = pd.DataFrame(0.0, columns = rows, index =[0])\n",
        "for i in a[:48]:\n",
        "  pi[i[0].lower()][0] =  pi[i[0].lower()][0] +1.0\n",
        "\n",
        "for i in pi:\n",
        "  pi[i][0] = pi[i][0]/len(a)"
      ],
      "execution_count": null,
      "outputs": []
    },
    {
      "cell_type": "code",
      "metadata": {
        "id": "W7ws49O_Cl4x"
      },
      "source": [
        "def find_probable(alpha):\n",
        "  plain_text =\"\"\n",
        "  for i in range(len(list(alpha.columns))):\n",
        "    plain_text = plain_text + chr(list(alpha[i]).index(max(alpha[i]))+97)\n",
        "  return plain_text\n"
      ],
      "execution_count": null,
      "outputs": []
    },
    {
      "cell_type": "code",
      "metadata": {
        "id": "k_5SWu5-lYFB"
      },
      "source": [
        "def viterbi(obs, pi, A, B, rows):\n",
        "  obs = obs.lower()\n",
        "  seq = list(\"\".join(obs.split()))\n",
        "  alpha = pd.DataFrame(0.0, columns = range(len(seq)), index = rows)\n",
        "  for i in rows:\n",
        "    alpha[0][i] = pi[i][0] * B[seq[0]][i]\n",
        "  #print(alpha)\n",
        "  for i in range(1, len(seq)):\n",
        "    for j in rows:\n",
        "      sum = 0.0\n",
        "      for k in rows:\n",
        "        sum += alpha[i-1][k] * A[j][k]* B[seq[i]][j]\n",
        "      alpha[i][j] = sum\n",
        "  return find_probable(alpha)"
      ],
      "execution_count": null,
      "outputs": []
    },
    {
      "cell_type": "code",
      "metadata": {
        "colab": {
          "background_save": true,
          "base_uri": "https://localhost:8080/"
        },
        "id": "fROMVh_NuIPM",
        "outputId": "a4de23e4-deaa-40db-e702-e695cfa2f272"
      },
      "source": [
        "count = 0\n",
        "total_count = 0\n",
        "#Running on test data\n",
        "for i in range(45, 60):\n",
        "  plain = viterbi(b[i], pi, t_prob, Emission_matrix, rows)\n",
        "  total_count = total_count + len(plain)\n",
        "  for m,n in zip(plain, \"\".join(a[i].lower().split())):\n",
        "      if m==n:\n",
        "        count = count+1\n",
        "  print(plain, a[i])\n",
        "print(\"Accuracy = \",count/total_count)\n",
        "print(count, total_count)"
      ],
      "execution_count": null,
      "outputs": [
        {
          "output_type": "stream",
          "text": [
            "noneedaaaaaaaaaaaaaaaa No need for the Black Maria\n",
            "aaaaaaaaaaaaaaaaaaaaaa Goodbye to the Brixton sun\n",
            "youcancrushus You can crush us\n",
            "youcanbruiseus You can bruise us\n",
            "yesevenshootaa Yes even shoot us\n",
            "butohthegunsofbrixton But ohthe guns of Brixton\n",
            "shotdownonthepavement Shot down on the pavement\n",
            "waitingindeathrow Waiting in death row\n",
            "hisgameiscalledsurvivin His game is called survivin\n",
            "asinheavenasinhell As in heaven as in hell\n",
            "anybodyaaaaaaaaaaaaaaaaaaaaaaa Anybody who makes speeches written\n",
            "bysomeoneelseisaaaaaaaaaa by someone else is just a robot\n",
            "Accuracy =  0.7166666666666667\n",
            "172 240\n"
          ],
          "name": "stdout"
        }
      ]
    },
    {
      "cell_type": "code",
      "metadata": {
        "id": "cpu_4Qd3r7iA"
      },
      "source": [
        "Emission_matrix"
      ],
      "execution_count": null,
      "outputs": []
    },
    {
      "cell_type": "code",
      "metadata": {
        "id": "TP_qmPRIu2DZ"
      },
      "source": [
        ""
      ],
      "execution_count": null,
      "outputs": []
    }
  ]
}